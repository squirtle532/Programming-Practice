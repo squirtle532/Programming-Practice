{
 "cells": [
  {
   "cell_type": "code",
   "execution_count": 2,
   "id": "9fdbd607-34ac-454d-b55d-80205c7f40c4",
   "metadata": {},
   "outputs": [
    {
     "name": "stdout",
     "output_type": "stream",
     "text": [
      "1 \n",
      "1 2 \n",
      "1 2 3 \n",
      "1 2 3 4 \n",
      "2 \n",
      "2 3 \n",
      "2 3 4 \n",
      "3 \n",
      "3 4 \n",
      "4 \n"
     ]
    }
   ],
   "source": [
    "#find all subarray\n",
    "def subarry(arr):\n",
    "    n = len(arr)\n",
    "    for i in range(n):\n",
    "        for j in range(i,n):\n",
    "            for k in range(i,j+1):\n",
    "                print(arr[k],end=\" \")\n",
    "            print()\n",
    "if __name__ == \"__main__\":\n",
    "    arr = [1,2,3,4]\n",
    "    subarry(arr)"
   ]
  },
  {
   "cell_type": "code",
   "execution_count": 3,
   "id": "29e83413-3357-45c4-bd91-b4b1d3ab586b",
   "metadata": {},
   "outputs": [
    {
     "name": "stdout",
     "output_type": "stream",
     "text": [
      "True\n"
     ]
    }
   ],
   "source": [
    "#to check array is sorted\n",
    "def checkarrSort(arr):\n",
    "    n = len(arr)\n",
    "    if (n == 0 or n == 1):\n",
    "        return True\n",
    "    for i in range(1,n):\n",
    "        if arr[i-1] > arr[i]:\n",
    "            return False\n",
    "    return True\n",
    "if __name__ == \"__main__\":\n",
    "    arr = [20, 23, 23, 45, 78, 88]\n",
    "    print(checkarrSort(arr))"
   ]
  },
  {
   "cell_type": "code",
   "execution_count": 4,
   "id": "b9ce81fd-ee54-40ce-bc21-0ee2bf4bea90",
   "metadata": {},
   "outputs": [
    {
     "name": "stdout",
     "output_type": "stream",
     "text": [
      "40.0\n"
     ]
    }
   ],
   "source": [
    "#average\n",
    "def average(l):\n",
    "    sum = 0\n",
    "    for i in l:\n",
    "        sum = sum + i\n",
    "    n = len(l)\n",
    "    return sum/n\n",
    "l = [10,60,50,40]\n",
    "print(average(l))"
   ]
  },
  {
   "cell_type": "code",
   "execution_count": 5,
   "id": "be601c3a-43b9-43a5-941f-28b47565b813",
   "metadata": {},
   "outputs": [
    {
     "name": "stdout",
     "output_type": "stream",
     "text": [
      "[11, 12, 22, 25, 34, 64, 90]\n"
     ]
    }
   ],
   "source": [
    "#bubble sort\n",
    "def bubbleSort(arr):\n",
    "    swap = False\n",
    "    n = len(arr)\n",
    "    for i in range(n):\n",
    "        for j in range(n-i-1):\n",
    "            if arr[j] > arr[j+1]:\n",
    "                arr[j],arr[j+1] = arr[j+1],arr[j]\n",
    "                swap = True\n",
    "        if swap == False:\n",
    "            break\n",
    "   # return arr\n",
    "if __name__ == \"__main__\":\n",
    "    arr = [64, 34, 25, 12, 22, 11, 90]\n",
    "    bubbleSort(arr)\n",
    "    print(arr)\n"
   ]
  },
  {
   "cell_type": "code",
   "execution_count": 6,
   "id": "7a014320-f493-4b4f-9e67-b65a25f85809",
   "metadata": {},
   "outputs": [
    {
     "name": "stdout",
     "output_type": "stream",
     "text": [
      "3\n"
     ]
    }
   ],
   "source": [
    "#count distinct\n",
    "def cDistinct(l):\n",
    "    res = 1\n",
    "    for i in range(1,len(l)):\n",
    "        if l[i] not in l[0:i]:\n",
    "            res += 1\n",
    "    return res\n",
    "l = [10,20,20,30,30,20]\n",
    "print(cDistinct(l))"
   ]
  },
  {
   "cell_type": "code",
   "execution_count": 7,
   "id": "5c2eb76e-fe2c-4256-85d6-278966536230",
   "metadata": {},
   "outputs": [
    {
     "name": "stdout",
     "output_type": "stream",
     "text": [
      "3\n"
     ]
    }
   ],
   "source": [
    "#count subarray\n",
    "def countSubArray(arr,k):\n",
    "    res = 0\n",
    "    n = len(arr)\n",
    "    for i in range(n):\n",
    "        curr = 0\n",
    "        for j in range(i,n):\n",
    "            curr = curr + arr[j]\n",
    "            if curr == k:\n",
    "                res += 1\n",
    "    return res\n",
    "if __name__ == \"__main__\":\n",
    "    arr = [10, 2, -2, -20, 10]\n",
    "    k = -10\n",
    "    print(countSubArray(arr,k))\n"
   ]
  },
  {
   "cell_type": "code",
   "execution_count": 8,
   "id": "499c790d-416e-4bd1-a3f2-5bb1b8482daa",
   "metadata": {},
   "outputs": [
    {
     "name": "stdout",
     "output_type": "stream",
     "text": [
      "3\n"
     ]
    }
   ],
   "source": [
    "# Count of subarrays having sum equal to its length\n",
    "def countSubArrLen(arr):\n",
    "    res = 0\n",
    "    n = len(arr)\n",
    "    for i in range(n):\n",
    "        csum = 0\n",
    "        for j in range(i,n):\n",
    "            csum = csum + arr[j]\n",
    "            k = j - i + 1\n",
    "            if csum == k:\n",
    "                    res += 1\n",
    "    return res\n",
    "if __name__ == \"__main__\":\n",
    "    arr = [1, 0, 2]\n",
    "    print(countSubArrLen(arr))"
   ]
  },
  {
   "cell_type": "code",
   "execution_count": 9,
   "id": "da250a8f-884c-4f08-bd7c-70b5db657c75",
   "metadata": {},
   "outputs": [
    {
     "name": "stdout",
     "output_type": "stream",
     "text": [
      "False\n"
     ]
    }
   ],
   "source": [
    "#equilibrium point\n",
    "def ePoint(arr):\n",
    "    n = len(arr)\n",
    "    for i in range(n):\n",
    "        ls,rs = 0,0\n",
    "        for j in range(i):\n",
    "            ls += arr[j]\n",
    "        for k in range(i+1,n):\n",
    "            rs  += arr[k]\n",
    "        if ls == rs:\n",
    "            return True\n",
    "    return False\n",
    "if __name__ == \"__main__\":\n",
    "    arr = [3,20,6,-8,4,-9]\n",
    "    print(ePoint(arr))"
   ]
  },
  {
   "cell_type": "code",
   "execution_count": 10,
   "id": "9b3b9fc5-840b-4288-9350-6459f967a737",
   "metadata": {},
   "outputs": [
    {
     "name": "stdout",
     "output_type": "stream",
     "text": [
      "12 10 9 45 2 "
     ]
    }
   ],
   "source": [
    "#find distinct\n",
    "def findDistinct(arr):\n",
    "    res = []\n",
    "    n = len(arr)\n",
    "    for i in range(n):\n",
    "        j = 0\n",
    "        while j < i:\n",
    "            if arr[i] == arr[j]:\n",
    "                break\n",
    "            j += 1\n",
    "        if i == j:\n",
    "            res.append(arr[i])\n",
    "    return res\n",
    "if __name__ == \"__main__\":\n",
    "    arr = [12, 10, 9, 45, 2, 10, 10, 45]\n",
    "    res = findDistinct(arr)\n",
    "    for val in res:\n",
    "        print(val,end=\" \")"
   ]
  },
  {
   "cell_type": "code",
   "execution_count": 11,
   "id": "31bd99c3-95ed-474c-ac23-b6c302e9979d",
   "metadata": {},
   "outputs": [
    {
     "name": "stdout",
     "output_type": "stream",
     "text": [
      "[3, 7]\n"
     ]
    }
   ],
   "source": [
    "#get smaller\n",
    "def getSmaller(l,x):\n",
    "    res = []\n",
    "    for i in l:\n",
    "        if i < x:\n",
    "            res.append(i)\n",
    "    return res\n",
    "l = [8,100,20,40,3,7]\n",
    "x = 8\n",
    "print(getSmaller(l,x))"
   ]
  },
  {
   "cell_type": "code",
   "execution_count": 13,
   "id": "969b327b-9e9e-4e9f-b7f5-da07c3577a0a",
   "metadata": {},
   "outputs": [
    {
     "name": "stdout",
     "output_type": "stream",
     "text": [
      "6\n"
     ]
    }
   ],
   "source": [
    "#inv count\n",
    "def invCount(arr):\n",
    "    inv_count = 0\n",
    "    n = len(arr)\n",
    "    for i in range(n):\n",
    "         for j in range(i+1,n):\n",
    "            if arr[i] > arr[j]:\n",
    "                inv_count += 1\n",
    "    return inv_count\n",
    "if __name__ == \"__main__\":\n",
    "    arr = [4, 3, 2, 1]\n",
    "    print(invCount(arr))"
   ]
  },
  {
   "cell_type": "code",
   "execution_count": 14,
   "id": "e2d68a10-8f25-406a-8cac-5a3960fca7a5",
   "metadata": {},
   "outputs": [
    {
     "name": "stdout",
     "output_type": "stream",
     "text": [
      "20\n"
     ]
    }
   ],
   "source": [
    "#largest\n",
    "def getMax(l):\n",
    "    if not l:\n",
    "        return None\n",
    "    else:\n",
    "        res = l[0]\n",
    "        for i in range(1,len(l)):\n",
    "            if l[i] > res:\n",
    "                res = l[i]\n",
    "        return res\n",
    "l = [10,5,20,8]\n",
    "print(getMax(l))"
   ]
  },
  {
   "cell_type": "code",
   "execution_count": 15,
   "id": "75fa6965-e600-4287-bd3b-f50484a92670",
   "metadata": {},
   "outputs": [
    {
     "name": "stdout",
     "output_type": "stream",
     "text": [
      "10\n"
     ]
    }
   ],
   "source": [
    "#second largest\n",
    "def getSecMax(l):\n",
    "    if len(l) <= 1:\n",
    "        return None\n",
    "    lar = l[0]\n",
    "    slar = None\n",
    "    for i in l[1:]:\n",
    "        if i > lar:\n",
    "            slar = lar\n",
    "            lar = i\n",
    "        elif i != lar:\n",
    "            if slar == None or slar < i:\n",
    "                slar = i\n",
    "    return slar\n",
    "if __name__ == \"__main__\":\n",
    "    l = [10,5,8,20]\n",
    "    slar = getSecMax(l)\n",
    "    print(slar)"
   ]
  },
  {
   "cell_type": "code",
   "execution_count": 21,
   "id": "11bf5cee-f1db-443b-8d49-bc1b1ca315f2",
   "metadata": {},
   "outputs": [
    {
     "name": "stdout",
     "output_type": "stream",
     "text": [
      "[1, 3, 5, 7, 9]\n",
      "[5, 7, 9, 1, 3]\n"
     ]
    }
   ],
   "source": [
    "#left rotate\n",
    "def leftrotate(l,d):\n",
    "    n = len(l)\n",
    "    reverse(l,0,d-1)\n",
    "    reverse(l,d,n-1)\n",
    "    reverse(l,0,n-1)\n",
    "def reverse(l,i,j):\n",
    "    while i < j:\n",
    "        l[i],l[j] = l[j],l[i]\n",
    "        i += 1\n",
    "        j -= 1\n",
    "if __name__ == \"__main__\":\n",
    "    arr = [1, 3, 5, 7, 9]\n",
    "    print(arr)\n",
    "    leftrotate(arr,2)\n",
    "    print(arr)"
   ]
  },
  {
   "cell_type": "code",
   "execution_count": 22,
   "id": "c7569d06-e3b1-4fd0-843f-216a9bee2353",
   "metadata": {},
   "outputs": [
    {
     "name": "stdout",
     "output_type": "stream",
     "text": [
      "[1, 3, 5, 7, 9]\n",
      "[7, 9, 1, 3, 5]\n"
     ]
    }
   ],
   "source": [
    "#right rotate\n",
    "def RightRotate(arr,k):\n",
    "    n = len(arr)\n",
    "    k = k % n \n",
    "    reverse(arr,0,n-1)\n",
    "    reverse(arr,0,k-1)\n",
    "    reverse(arr,k,n-1)\n",
    "def reverse(arr,i,j):\n",
    "    while i < j:\n",
    "        arr[i],arr[j] = arr[j],arr[i]\n",
    "        i += 1\n",
    "        j -= 1\n",
    "if __name__ == \"__main__\":\n",
    "    arr = [1, 3, 5, 7, 9]\n",
    "    k = 2\n",
    "    print(arr)\n",
    "    RightRotate(arr,2)\n",
    "    print(arr)\n"
   ]
  },
  {
   "cell_type": "code",
   "execution_count": 23,
   "id": "f688daae-aac9-4927-aae8-b45d9715d376",
   "metadata": {},
   "outputs": [
    {
     "name": "stdout",
     "output_type": "stream",
     "text": [
      "[30, 20, 10]\n"
     ]
    }
   ],
   "source": [
    "#revese\n",
    "def reverseList(l):\n",
    "    s = 0\n",
    "    e = len(l) - 1\n",
    "    while s < e:\n",
    "        l[s],l[e] = l[e],l[s]\n",
    "        s = s + 1\n",
    "        e = e - 1 \n",
    "if __name__ == \"__main__\":\n",
    "    l = [10,20,30]\n",
    "    reverseList(l)\n",
    "    print(l)"
   ]
  },
  {
   "cell_type": "code",
   "execution_count": 25,
   "id": "36c6b88f-9d8b-48ee-bc15-d80bb0d26d85",
   "metadata": {},
   "outputs": [
    {
     "name": "stdin",
     "output_type": "stream",
     "text": [
      "Enter array 1234\n"
     ]
    },
    {
     "name": "stdout",
     "output_type": "stream",
     "text": [
      "[1234]\n"
     ]
    }
   ],
   "source": [
    "#leader\n",
    "def LeaderArray(arr):\n",
    "    result = []\n",
    "    n = len(arr)\n",
    "    for i in range(n):\n",
    "        is_leader = True\n",
    "        for j in range(i+1,n):\n",
    "            if arr[i] < arr[j]:\n",
    "                is_leader = False\n",
    "                break\n",
    "        if is_leader:\n",
    "                result.append(arr[i])\n",
    "    return result\n",
    "if __name__ == \"__main__\":\n",
    "    inarr = input(\"Enter array\")\n",
    "    arr = list(map(int,inarr.split()))\n",
    "    resarr = LeaderArray(arr)\n",
    "    print(resarr)"
   ]
  },
  {
   "cell_type": "code",
   "execution_count": null,
   "id": "cd3eb029-b943-4d82-9e30-f39e038996b1",
   "metadata": {},
   "outputs": [],
   "source": []
  }
 ],
 "metadata": {
  "kernelspec": {
   "display_name": "Python (tf_env)",
   "language": "python",
   "name": "tf_env"
  },
  "language_info": {
   "codemirror_mode": {
    "name": "ipython",
    "version": 3
   },
   "file_extension": ".py",
   "mimetype": "text/x-python",
   "name": "python",
   "nbconvert_exporter": "python",
   "pygments_lexer": "ipython3",
   "version": "3.10.16"
  }
 },
 "nbformat": 4,
 "nbformat_minor": 5
}
