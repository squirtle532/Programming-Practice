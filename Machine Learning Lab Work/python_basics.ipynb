{
 "cells": [
  {
   "cell_type": "code",
   "execution_count": 2,
   "id": "b94d0212-e82c-4ab8-b40c-4dcd9e2027c7",
   "metadata": {},
   "outputs": [
    {
     "name": "stdout",
     "output_type": "stream",
     "text": [
      "1 100 2 50 4 25 5 20 "
     ]
    }
   ],
   "source": [
    "#all divisors\n",
    "def AllDivisors(n):\n",
    "    i = 1\n",
    "    while i * i < n:\n",
    "        if n % i == 0:\n",
    "            print(i,end=\" \")\n",
    "            print(n//i,end=\" \")\n",
    "        i += 1\n",
    "if __name__ == \"__main__\":\n",
    "    AllDivisors(100)"
   ]
  },
  {
   "cell_type": "code",
   "execution_count": 3,
   "id": "f7aac42e-7e36-4da1-94f7-0b863c2921f5",
   "metadata": {},
   "outputs": [
    {
     "name": "stdin",
     "output_type": "stream",
     "text": [
      "Enter Number 121\n"
     ]
    },
    {
     "name": "stdout",
     "output_type": "stream",
     "text": [
      "False\n"
     ]
    }
   ],
   "source": [
    "#armstrong\n",
    "def isArmstrong(n):\n",
    "    sum = 0\n",
    "    num_dig = len(str(n))\n",
    "    for i in str(n):\n",
    "        sum = sum + int(i)**num_dig\n",
    "    return sum == n\n",
    "    \n",
    "if __name__ == \"__main__\":\n",
    "    n = int(input(\"Enter Number\"))\n",
    "    print(isArmstrong(n))"
   ]
  },
  {
   "cell_type": "code",
   "execution_count": 10,
   "id": "a4b43ee7-6577-4cbf-a4e3-2fe5dc708347",
   "metadata": {},
   "outputs": [
    {
     "name": "stdin",
     "output_type": "stream",
     "text": [
      "Enter the number 99\n"
     ]
    },
    {
     "name": "stdout",
     "output_type": "stream",
     "text": [
      "2\n"
     ]
    }
   ],
   "source": [
    "#count digit\n",
    "def countDigit(n):\n",
    "    res = 0\n",
    "    while n > 0 :\n",
    "        n = n // 10\n",
    "        res += 1\n",
    "    return res\n",
    "if __name__ == \"__main__\":\n",
    "    n = int(input(\"Enter the number\"))\n",
    "    print(countDigit(n))"
   ]
  },
  {
   "cell_type": "code",
   "execution_count": 6,
   "id": "8baa9b68-e63f-4cf6-818b-c89d1f6f45ef",
   "metadata": {},
   "outputs": [
    {
     "name": "stdin",
     "output_type": "stream",
     "text": [
      "Enter Number 20\n"
     ]
    },
    {
     "name": "stdout",
     "output_type": "stream",
     "text": [
      "Factorial is 2432902008176640000\n"
     ]
    }
   ],
   "source": [
    "#factorial\n",
    "def fact(n):\n",
    "    res = 1\n",
    "    for i in range(2,n+1):\n",
    "        res = res * i\n",
    "    print(\"Factorial is\" ,res)\n",
    "\n",
    "if __name__ == \"__main__\":\n",
    "    n = int(input(\"Enter Number\"))\n",
    "    fact(n)"
   ]
  },
  {
   "cell_type": "code",
   "execution_count": 12,
   "id": "db8d2372-0cd2-40f5-8af1-262c64c5a522",
   "metadata": {},
   "outputs": [
    {
     "name": "stdin",
     "output_type": "stream",
     "text": [
      "Enter Number 10\n"
     ]
    },
    {
     "name": "stdout",
     "output_type": "stream",
     "text": [
      "1 1 2 3 5 8 13 21 34 55 89 "
     ]
    }
   ],
   "source": [
    "#fibonacci\n",
    "n = int(input(\"Enter Number\"))\n",
    "if n == 0:\n",
    "    print(1)\n",
    "if n == 1:\n",
    "    print(1,1)\n",
    "else:\n",
    "    print(1,1,end=\" \")\n",
    "    x = 1\n",
    "    y = 1\n",
    "    for i in range(2,n+1):\n",
    "        sum = x + y\n",
    "        print(sum,end=\" \")\n",
    "        x = y\n",
    "        y = sum"
   ]
  },
  {
   "cell_type": "code",
   "execution_count": 13,
   "id": "f119257e-a3af-4d89-943e-985791d8686d",
   "metadata": {},
   "outputs": [
    {
     "name": "stdout",
     "output_type": "stream",
     "text": [
      "3\n"
     ]
    }
   ],
   "source": [
    "#gcd euclidean\n",
    "def gcd(a,b):\n",
    "    while a != b:\n",
    "          if a > b:\n",
    "             a = a - b\n",
    "          else:\n",
    "             b = b - a\n",
    "    return a\n",
    "if __name__ == \"__main__\":\n",
    "   a = 12\n",
    "   b = 15\n",
    "   print(gcd(a,b))"
   ]
  },
  {
   "cell_type": "code",
   "execution_count": 14,
   "id": "7dc3eedc-635f-4c9a-b050-63b03e687f8b",
   "metadata": {},
   "outputs": [
    {
     "name": "stdout",
     "output_type": "stream",
     "text": [
      "* * * * \n",
      "* * * \n",
      "* * \n",
      "* \n"
     ]
    }
   ],
   "source": [
    "#inverted triangle\n",
    "def InvTriangle(n):\n",
    "    for i in range(n):\n",
    "        for j in range(n-i):\n",
    "            print(\"*\",end=\" \")\n",
    "        print()\n",
    "if __name__ == \"__main__\":\n",
    "    InvTriangle(4)"
   ]
  },
  {
   "cell_type": "code",
   "execution_count": 15,
   "id": "918cf803-354e-4a55-ad1b-c34ef80862e3",
   "metadata": {},
   "outputs": [
    {
     "name": "stdout",
     "output_type": "stream",
     "text": [
      "12\n"
     ]
    }
   ],
   "source": [
    "#lcm\n",
    "def lcm(a,b):\n",
    "    res = max(a,b)\n",
    "    while True:\n",
    "        if res % a == 0 and res % b == 0:\n",
    "            return res\n",
    "        res += 1\n",
    "    return res\n",
    "if __name__ == \"__main__\":\n",
    "    a = 4\n",
    "    b = 6\n",
    "    print(lcm(a,b))"
   ]
  },
  {
   "cell_type": "code",
   "execution_count": 16,
   "id": "40dd2ff6-fa2a-4d17-bc2e-ad6150678b57",
   "metadata": {},
   "outputs": [
    {
     "name": "stdout",
     "output_type": "stream",
     "text": [
      "False\n"
     ]
    }
   ],
   "source": [
    "# isPrime\n",
    "def is_prime(n):\n",
    "    if n <= 1:\n",
    "        return False\n",
    "    i = 2\n",
    "    while i*i <= n:\n",
    "        if n % i == 0:\n",
    "             return False\n",
    "        i += 1\n",
    "    return True\n",
    "\n",
    "if __name__ == \"__main__\":\n",
    "   n = 65\n",
    "   print(\"True\") if is_prime(n) else print(\"False\") "
   ]
  },
  {
   "cell_type": "code",
   "execution_count": 17,
   "id": "714c0361-eea7-4d0c-9f99-5a5c170aa572",
   "metadata": {},
   "outputs": [
    {
     "name": "stdout",
     "output_type": "stream",
     "text": [
      "False\n"
     ]
    }
   ],
   "source": [
    "#pallindrome\n",
    "def isPal(n):\n",
    "    rev = 0\n",
    "    temp = n\n",
    "    while temp != 0:\n",
    "        ld = temp % 10\n",
    "        rev = rev * 10 + ld\n",
    "        temp = temp // 10\n",
    "    return rev == n\n",
    "if __name__ == \"__main__\":\n",
    "    n = 4553\n",
    "    print(isPal(n))"
   ]
  },
  {
   "cell_type": "code",
   "execution_count": null,
   "id": "f5877b4c-29a0-419f-847a-e262bb34a6e4",
   "metadata": {},
   "outputs": [
    {
     "name": "stdin",
     "output_type": "stream",
     "text": [
      "Enter Number 99999999\n"
     ]
    },
    {
     "name": "stdout",
     "output_type": "stream",
     "text": [
      "3 3 11 73 101 137 "
     ]
    }
   ],
   "source": [
    "#prime factors\n",
    "def isPrime(n):\n",
    "    for i in range(2,n):\n",
    "        if n % i == 0:\n",
    "            return False\n",
    "    return True\n",
    "def printPrimeFactors(z):\n",
    "    for i in range(2,z+1):\n",
    "        if isPrime(i):\n",
    "            x = i\n",
    "            while z % x == 0:\n",
    "                print(i,end=\" \")\n",
    "                x = x * i\n",
    "if __name__ == \"__main__\":\n",
    "    z = int(input(\"Enter Number\"))\n",
    "    printPrimeFactors(z)"
   ]
  },
  {
   "cell_type": "code",
   "execution_count": 3,
   "id": "9589abb8-61bf-4a21-85ca-e1cc3cf90762",
   "metadata": {},
   "outputs": [
    {
     "name": "stdout",
     "output_type": "stream",
     "text": [
      "    *\n",
      "   ***\n",
      "  *****\n",
      " *******\n",
      "*********\n"
     ]
    }
   ],
   "source": [
    "#pyramid\n",
    "def pyramid(n):\n",
    "    for i in range(n):\n",
    "        for j in range(n-i-1):\n",
    "            print(\" \",end=\"\")\n",
    "        for k in range(2*i+1):\n",
    "            print(\"*\",end=\"\")\n",
    "        print()\n",
    "if __name__ == \"__main__\":\n",
    "    pyramid(5)"
   ]
  },
  {
   "cell_type": "code",
   "execution_count": 2,
   "id": "36d65cbc-4831-4601-a036-8cd0e5a3fb75",
   "metadata": {},
   "outputs": [
    {
     "name": "stdout",
     "output_type": "stream",
     "text": [
      "* * * * \n",
      "* * * * \n",
      "* * * * \n",
      "* * * * \n"
     ]
    }
   ],
   "source": [
    "#square\n",
    "def squarePat(n):\n",
    "    for i in range(n):\n",
    "        for j in range(n):\n",
    "            print(\"*\",end=\" \")\n",
    "        print()\n",
    "if __name__ == \"__main__\":\n",
    "    squarePat(4)"
   ]
  },
  {
   "cell_type": "code",
   "execution_count": 1,
   "id": "a7d2dcb3-30a5-4976-8b0f-9fe068c64fee",
   "metadata": {},
   "outputs": [
    {
     "name": "stdout",
     "output_type": "stream",
     "text": [
      "* \n",
      "* * \n",
      "* * * \n",
      "* * * * \n"
     ]
    }
   ],
   "source": [
    "#triangle\n",
    "def trainglePat(n):\n",
    "    for i in range(n):\n",
    "        for j in range(i+1):\n",
    "            print(\"*\",end=\" \")\n",
    "        print()\n",
    "if __name__ == \"__main__\":\n",
    "    trainglePat(4)"
   ]
  },
  {
   "cell_type": "code",
   "execution_count": null,
   "id": "6843a6e4-e6fc-4a9a-bbd8-46a042fc16a8",
   "metadata": {},
   "outputs": [],
   "source": []
  }
 ],
 "metadata": {
  "kernelspec": {
   "display_name": "Python 3 (ipykernel)",
   "language": "python",
   "name": "python3"
  },
  "language_info": {
   "codemirror_mode": {
    "name": "ipython",
    "version": 3
   },
   "file_extension": ".py",
   "mimetype": "text/x-python",
   "name": "python",
   "nbconvert_exporter": "python",
   "pygments_lexer": "ipython3",
   "version": "3.12.7"
  }
 },
 "nbformat": 4,
 "nbformat_minor": 5
}
