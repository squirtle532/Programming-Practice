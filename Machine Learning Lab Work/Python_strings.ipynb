{
 "cells": [
  {
   "cell_type": "code",
   "execution_count": 1,
   "id": "93a09a25-8b3c-413d-a782-cea63853ff5b",
   "metadata": {},
   "outputs": [
    {
     "name": "stdin",
     "output_type": "stream",
     "text": [
      "Enter string 1 abcde\n",
      "Enter string 2 edacb\n"
     ]
    },
    {
     "name": "stdout",
     "output_type": "stream",
     "text": [
      "True\n"
     ]
    }
   ],
   "source": [
    "#anagram\n",
    "def areAnagram(s1,s2):\n",
    "    if len(s1) != len(s2):\n",
    "        return False\n",
    "    count = [0] * 256\n",
    "    for i in range(len(s1)):\n",
    "        count[ord(s1[i])] += 1\n",
    "        count[ord(s2[i])] -= 1\n",
    "    for i in count:\n",
    "        if i != 0:\n",
    "            return False\n",
    "    return True\n",
    "if __name__ == \"__main__\":\n",
    "   s1 = input(\"Enter string 1\")\n",
    "   s2 = input(\"Enter string 2\")\n",
    "   print(areAnagram(s1,s2))"
   ]
  },
  {
   "cell_type": "code",
   "execution_count": 12,
   "id": "3ea876b6-6f21-4195-9595-0efffdce3717",
   "metadata": {},
   "outputs": [
    {
     "name": "stdin",
     "output_type": "stream",
     "text": [
      "Enter Binary Number 1010101\n"
     ]
    },
    {
     "name": "stdout",
     "output_type": "stream",
     "text": [
      "85\n"
     ]
    }
   ],
   "source": [
    "#binary to decimal\n",
    "def binTodec(b):\n",
    "    res = 0\n",
    "    p = 1\n",
    "    for i in reversed(b):\n",
    "        res = res + int(i)*p\n",
    "        p = p*2\n",
    "    return res\n",
    "if __name__ == \"__main__\":\n",
    "  bin = input(\"Enter Binary Number\")\n",
    "  dec = binTodec(bin)\n",
    "  print(dec)"
   ]
  },
  {
   "cell_type": "code",
   "execution_count": 13,
   "id": "ce1e41fe-6a94-4fd4-8ce9-b1161ed3d28e",
   "metadata": {},
   "outputs": [
    {
     "name": "stdin",
     "output_type": "stream",
     "text": [
      "Enter Decimal number 85\n"
     ]
    },
    {
     "name": "stdout",
     "output_type": "stream",
     "text": [
      "1010101 \n"
     ]
    }
   ],
   "source": [
    "#decimal to binary\n",
    "def decTobin(n):\n",
    "    if n == 0:\n",
    "        return \"0\"\n",
    "    res = \" \"\n",
    "    while n > 0:\n",
    "        res = res + str(n%2)\n",
    "        n = n // 2\n",
    "    return res[::-1]\n",
    "if __name__ == \"__main__\":\n",
    "    n = int(input(\"Enter Decimal number\"))\n",
    "    bin = decTobin(n)\n",
    "    print(bin)"
   ]
  },
  {
   "cell_type": "code",
   "execution_count": 14,
   "id": "796ea6c7-bbe6-46e8-aeab-1310b1952864",
   "metadata": {},
   "outputs": [
    {
     "name": "stdin",
     "output_type": "stream",
     "text": [
      "Enter String abcba\n"
     ]
    },
    {
     "name": "stdout",
     "output_type": "stream",
     "text": [
      "Yes\n"
     ]
    }
   ],
   "source": [
    "#pallindrome\n",
    "def pallindrome(str):\n",
    "    low = 0 \n",
    "    high = len(str) - 1\n",
    "    while low < high:\n",
    "        if str[low] != str[high]:\n",
    "            print(\"No\")\n",
    "            break\n",
    "        low = low + 1\n",
    "        high = high - 1\n",
    "    print(\"Yes\")\n",
    "\n",
    "if __name__ == \"__main__\":\n",
    "    str = input(\"Enter String\")\n",
    "    pallindrome(str)"
   ]
  },
  {
   "cell_type": "code",
   "execution_count": 15,
   "id": "46c41f17-1113-4acc-87b0-329c6e05c4ca",
   "metadata": {},
   "outputs": [
    {
     "name": "stdin",
     "output_type": "stream",
     "text": [
      "Enter string abcba\n"
     ]
    },
    {
     "name": "stdout",
     "output_type": "stream",
     "text": [
      "abcba \n"
     ]
    }
   ],
   "source": [
    "#reverse\n",
    "def reverse(str):\n",
    "    rev = \" \"\n",
    "    for i in str:\n",
    "        rev = i + rev\n",
    "    print(rev)\n",
    "if __name__ == \"__main__\":\n",
    "    str = input(\"Enter string\")\n",
    "    reverse(str)"
   ]
  },
  {
   "cell_type": "code",
   "execution_count": 16,
   "id": "a86e50b1-7fb8-4953-b188-938d44313bc8",
   "metadata": {},
   "outputs": [
    {
     "name": "stdin",
     "output_type": "stream",
     "text": [
      "Enter String abcde\n",
      "Enter Subsequence abc\n"
     ]
    },
    {
     "name": "stdout",
     "output_type": "stream",
     "text": [
      "True\n"
     ]
    }
   ],
   "source": [
    "#issubsequence\n",
    "def isSubSeq(s1,s2):\n",
    "    i,j = 0,0\n",
    "    while (i<len(s1) and j<len(s2)):\n",
    "        if s1[i] == s2[j]:\n",
    "            j += 1\n",
    "        i += 1\n",
    "    if j == len(s2):\n",
    "        return True\n",
    "    else:\n",
    "        return False\n",
    "if __name__ == \"__main__\":\n",
    "    s1 = input(\"Enter String\")\n",
    "    s2 = input(\"Enter Subsequence\")\n",
    "    print(isSubSeq(s1,s2))"
   ]
  },
  {
   "cell_type": "code",
   "execution_count": null,
   "id": "c6936001-9ddc-43a5-92c0-16616a338351",
   "metadata": {},
   "outputs": [],
   "source": []
  }
 ],
 "metadata": {
  "kernelspec": {
   "display_name": "Python 3 (ipykernel)",
   "language": "python",
   "name": "python3"
  },
  "language_info": {
   "codemirror_mode": {
    "name": "ipython",
    "version": 3
   },
   "file_extension": ".py",
   "mimetype": "text/x-python",
   "name": "python",
   "nbconvert_exporter": "python",
   "pygments_lexer": "ipython3",
   "version": "3.12.7"
  }
 },
 "nbformat": 4,
 "nbformat_minor": 5
}
